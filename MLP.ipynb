{
 "cells": [
  {
   "cell_type": "markdown",
   "metadata": {},
   "source": [
    "# PUBG Finish Placement Prediction\n",
    "## 1 MLP"
   ]
  },
  {
   "cell_type": "code",
   "execution_count": 1,
   "metadata": {},
   "outputs": [],
   "source": [
    "import numpy as np\n",
    "import pandas as pd\n",
    "import os\n",
    "import warnings\n",
    "import pandas as pd\n",
    "import numpy as np\n",
    "from sklearn.model_selection import train_test_split\n",
    "from sklearn.metrics import mean_squared_error,mean_absolute_error"
   ]
  },
  {
   "cell_type": "code",
   "execution_count": 2,
   "metadata": {},
   "outputs": [
    {
     "name": "stdout",
     "output_type": "stream",
     "text": [
      "(4446965, 29)\n"
     ]
    }
   ],
   "source": [
    "df = pd.read_csv( './train_V2.csv')\n",
    "df = df.dropna()\n",
    "print(df.shape)"
   ]
  },
  {
   "cell_type": "code",
   "execution_count": 3,
   "metadata": {},
   "outputs": [
    {
     "name": "stdout",
     "output_type": "stream",
     "text": [
      "(444697, 24) (4002268, 24) (4002268,)\n"
     ]
    }
   ],
   "source": [
    "target = 'winPlacePerc'\n",
    "features = list(df.columns)\n",
    "features.remove(\"Id\")\n",
    "features.remove(\"matchId\")\n",
    "features.remove(\"groupId\")\n",
    "features.remove(\"matchType\")\n",
    "\n",
    "y = np.array(df[target])\n",
    "features.remove(target)\n",
    "x = df[features]\n",
    "\n",
    "x_train, x_test, y_train, y_test = train_test_split(x, y, test_size=0.1, random_state=0)\n",
    "print(x_test.shape, x_train.shape, y_train.shape)"
   ]
  },
  {
   "cell_type": "markdown",
   "metadata": {},
   "source": [
    "## 1.1 构建MLP模型"
   ]
  },
  {
   "cell_type": "code",
   "execution_count": 4,
   "metadata": {},
   "outputs": [
    {
     "name": "stderr",
     "output_type": "stream",
     "text": [
      "Using TensorFlow backend.\n"
     ]
    }
   ],
   "source": [
    "from keras import models\n",
    "from keras import layers\n",
    "from keras import Sequential\n",
    "from keras.layers import Dense, Dropout, Input\n",
    "\n",
    "def build_model():\n",
    "    model = Sequential()\n",
    "    model.add(Dense(80,input_dim=x_train.shape[1],activation='relu'))\n",
    "    model.add(Dense(160,activation='relu'))\n",
    "    model.add(Dense(320,activation='relu'))\n",
    "    model.add(Dropout(0.1))\n",
    "    model.add(Dense(160,activation='relu'))\n",
    "    model.add(Dense(80,activation='relu'))\n",
    "    model.add(Dense(40,activation='relu'))\n",
    "    model.add(Dense(20,activation='relu'))\n",
    "    model.add(Dense(1,activation='sigmoid'))\n",
    "    model.summary()\n",
    "    model.compile(optimizer='adam', loss='mse', metrics=['mae'])\n",
    "    return model"
   ]
  },
  {
   "cell_type": "markdown",
   "metadata": {},
   "source": [
    "## 1.2 训练"
   ]
  },
  {
   "cell_type": "code",
   "execution_count": 5,
   "metadata": {},
   "outputs": [],
   "source": [
    "from keras import backend as K\n",
    "# Some memory clean-up\n",
    "K.clear_session()"
   ]
  },
  {
   "cell_type": "code",
   "execution_count": 7,
   "metadata": {},
   "outputs": [
    {
     "name": "stdout",
     "output_type": "stream",
     "text": [
      "_________________________________________________________________\n",
      "Layer (type)                 Output Shape              Param #   \n",
      "=================================================================\n",
      "dense_9 (Dense)              (None, 80)                2000      \n",
      "_________________________________________________________________\n",
      "dense_10 (Dense)             (None, 160)               12960     \n",
      "_________________________________________________________________\n",
      "dense_11 (Dense)             (None, 320)               51520     \n",
      "_________________________________________________________________\n",
      "dropout_2 (Dropout)          (None, 320)               0         \n",
      "_________________________________________________________________\n",
      "dense_12 (Dense)             (None, 160)               51360     \n",
      "_________________________________________________________________\n",
      "dense_13 (Dense)             (None, 80)                12880     \n",
      "_________________________________________________________________\n",
      "dense_14 (Dense)             (None, 40)                3240      \n",
      "_________________________________________________________________\n",
      "dense_15 (Dense)             (None, 20)                820       \n",
      "_________________________________________________________________\n",
      "dense_16 (Dense)             (None, 1)                 21        \n",
      "=================================================================\n",
      "Total params: 134,801\n",
      "Trainable params: 134,801\n",
      "Non-trainable params: 0\n",
      "_________________________________________________________________\n",
      "Train on 3201814 samples, validate on 800454 samples\n",
      "Epoch 1/100\n",
      "3201814/3201814 [==============================] - 7s 2us/step - loss: 0.0999 - mean_absolute_error: 0.2536 - val_loss: 0.0751 - val_mean_absolute_error: 0.2126\n",
      "Epoch 2/100\n",
      "3201814/3201814 [==============================] - 6s 2us/step - loss: 0.0185 - mean_absolute_error: 0.0980 - val_loss: 0.0140 - val_mean_absolute_error: 0.0849\n",
      "Epoch 3/100\n",
      "3201814/3201814 [==============================] - 6s 2us/step - loss: 0.0131 - mean_absolute_error: 0.0818 - val_loss: 0.0123 - val_mean_absolute_error: 0.0800\n",
      "Epoch 4/100\n",
      "3201814/3201814 [==============================] - 6s 2us/step - loss: 0.0117 - mean_absolute_error: 0.0771 - val_loss: 0.0114 - val_mean_absolute_error: 0.0770\n",
      "Epoch 5/100\n",
      "3201814/3201814 [==============================] - 6s 2us/step - loss: 0.0108 - mean_absolute_error: 0.0742 - val_loss: 0.0103 - val_mean_absolute_error: 0.0718\n",
      "Epoch 6/100\n",
      "3201814/3201814 [==============================] - 6s 2us/step - loss: 0.0102 - mean_absolute_error: 0.0723 - val_loss: 0.0098 - val_mean_absolute_error: 0.0713\n",
      "Epoch 7/100\n",
      "3201814/3201814 [==============================] - 6s 2us/step - loss: 0.0100 - mean_absolute_error: 0.0713 - val_loss: 0.0098 - val_mean_absolute_error: 0.0701\n",
      "Epoch 8/100\n",
      "3201814/3201814 [==============================] - 6s 2us/step - loss: 0.0097 - mean_absolute_error: 0.0703 - val_loss: 0.0094 - val_mean_absolute_error: 0.0696\n",
      "Epoch 9/100\n",
      "3201814/3201814 [==============================] - 6s 2us/step - loss: 0.0095 - mean_absolute_error: 0.0697 - val_loss: 0.0093 - val_mean_absolute_error: 0.0686\n",
      "Epoch 10/100\n",
      "3201814/3201814 [==============================] - 6s 2us/step - loss: 0.0093 - mean_absolute_error: 0.0691 - val_loss: 0.0097 - val_mean_absolute_error: 0.0694\n",
      "Epoch 11/100\n",
      "3201814/3201814 [==============================] - 6s 2us/step - loss: 0.0092 - mean_absolute_error: 0.0685 - val_loss: 0.0091 - val_mean_absolute_error: 0.0688\n",
      "Epoch 12/100\n",
      "3201814/3201814 [==============================] - 6s 2us/step - loss: 0.0090 - mean_absolute_error: 0.0679 - val_loss: 0.0095 - val_mean_absolute_error: 0.0716\n",
      "Epoch 13/100\n",
      "3201814/3201814 [==============================] - 7s 2us/step - loss: 0.0088 - mean_absolute_error: 0.0674 - val_loss: 0.0089 - val_mean_absolute_error: 0.0673\n",
      "Epoch 14/100\n",
      "3201814/3201814 [==============================] - 6s 2us/step - loss: 0.0087 - mean_absolute_error: 0.0669 - val_loss: 0.0084 - val_mean_absolute_error: 0.0658\n",
      "Epoch 15/100\n",
      "3201814/3201814 [==============================] - 6s 2us/step - loss: 0.0085 - mean_absolute_error: 0.0662 - val_loss: 0.0088 - val_mean_absolute_error: 0.0670\n",
      "Epoch 16/100\n",
      "3201814/3201814 [==============================] - 6s 2us/step - loss: 0.0084 - mean_absolute_error: 0.0659 - val_loss: 0.0089 - val_mean_absolute_error: 0.0702\n",
      "Epoch 17/100\n",
      "3201814/3201814 [==============================] - 6s 2us/step - loss: 0.0083 - mean_absolute_error: 0.0654 - val_loss: 0.0084 - val_mean_absolute_error: 0.0655\n",
      "Epoch 18/100\n",
      "3201814/3201814 [==============================] - 6s 2us/step - loss: 0.0082 - mean_absolute_error: 0.0650 - val_loss: 0.0085 - val_mean_absolute_error: 0.0656\n",
      "Epoch 19/100\n",
      "3201814/3201814 [==============================] - 6s 2us/step - loss: 0.0081 - mean_absolute_error: 0.0644 - val_loss: 0.0088 - val_mean_absolute_error: 0.0699\n",
      "Epoch 20/100\n",
      "3201814/3201814 [==============================] - 6s 2us/step - loss: 0.0080 - mean_absolute_error: 0.0639 - val_loss: 0.0083 - val_mean_absolute_error: 0.0674\n",
      "Epoch 21/100\n",
      "3201814/3201814 [==============================] - 6s 2us/step - loss: 0.0079 - mean_absolute_error: 0.0638 - val_loss: 0.0090 - val_mean_absolute_error: 0.0713\n",
      "Epoch 22/100\n",
      "3201814/3201814 [==============================] - 6s 2us/step - loss: 0.0077 - mean_absolute_error: 0.0629 - val_loss: 0.0078 - val_mean_absolute_error: 0.0638\n",
      "Epoch 23/100\n",
      "3201814/3201814 [==============================] - 6s 2us/step - loss: 0.0077 - mean_absolute_error: 0.0628 - val_loss: 0.0079 - val_mean_absolute_error: 0.0634\n",
      "Epoch 24/100\n",
      "3201814/3201814 [==============================] - 6s 2us/step - loss: 0.0076 - mean_absolute_error: 0.0625 - val_loss: 0.0077 - val_mean_absolute_error: 0.0633\n",
      "Epoch 25/100\n",
      "3201814/3201814 [==============================] - 6s 2us/step - loss: 0.0076 - mean_absolute_error: 0.0623 - val_loss: 0.0079 - val_mean_absolute_error: 0.0649\n",
      "Epoch 26/100\n",
      "3201814/3201814 [==============================] - 6s 2us/step - loss: 0.0076 - mean_absolute_error: 0.0621 - val_loss: 0.0076 - val_mean_absolute_error: 0.0635\n",
      "Epoch 27/100\n",
      "3201814/3201814 [==============================] - 6s 2us/step - loss: 0.0075 - mean_absolute_error: 0.0618 - val_loss: 0.0074 - val_mean_absolute_error: 0.0616\n",
      "Epoch 28/100\n",
      "3201814/3201814 [==============================] - 6s 2us/step - loss: 0.0074 - mean_absolute_error: 0.0616 - val_loss: 0.0075 - val_mean_absolute_error: 0.0620\n",
      "Epoch 29/100\n",
      "3201814/3201814 [==============================] - 6s 2us/step - loss: 0.0074 - mean_absolute_error: 0.0614 - val_loss: 0.0083 - val_mean_absolute_error: 0.0675\n",
      "Epoch 30/100\n",
      "3201814/3201814 [==============================] - 6s 2us/step - loss: 0.0074 - mean_absolute_error: 0.0615 - val_loss: 0.0073 - val_mean_absolute_error: 0.0616\n",
      "Epoch 31/100\n",
      "3201814/3201814 [==============================] - 6s 2us/step - loss: 0.0073 - mean_absolute_error: 0.0611 - val_loss: 0.0074 - val_mean_absolute_error: 0.0625\n",
      "Epoch 32/100\n",
      "3201814/3201814 [==============================] - 6s 2us/step - loss: 0.0073 - mean_absolute_error: 0.0613 - val_loss: 0.0074 - val_mean_absolute_error: 0.0631\n",
      "Epoch 33/100\n",
      "3201814/3201814 [==============================] - 6s 2us/step - loss: 0.0073 - mean_absolute_error: 0.0609 - val_loss: 0.0084 - val_mean_absolute_error: 0.0687\n",
      "Epoch 34/100\n",
      "3201814/3201814 [==============================] - 6s 2us/step - loss: 0.0073 - mean_absolute_error: 0.0609 - val_loss: 0.0073 - val_mean_absolute_error: 0.0612\n",
      "Epoch 35/100\n",
      "3201814/3201814 [==============================] - 6s 2us/step - loss: 0.0072 - mean_absolute_error: 0.0606 - val_loss: 0.0074 - val_mean_absolute_error: 0.0625\n",
      "Epoch 36/100\n",
      "3201814/3201814 [==============================] - 6s 2us/step - loss: 0.0072 - mean_absolute_error: 0.0607 - val_loss: 0.0074 - val_mean_absolute_error: 0.0625\n",
      "Epoch 37/100\n",
      "3201814/3201814 [==============================] - 6s 2us/step - loss: 0.0072 - mean_absolute_error: 0.0605 - val_loss: 0.0083 - val_mean_absolute_error: 0.0676\n",
      "Epoch 38/100\n",
      "3201814/3201814 [==============================] - 6s 2us/step - loss: 0.0077 - mean_absolute_error: 0.0626 - val_loss: 0.0074 - val_mean_absolute_error: 0.0630\n",
      "Epoch 39/100\n"
     ]
    },
    {
     "name": "stdout",
     "output_type": "stream",
     "text": [
      "3201814/3201814 [==============================] - 6s 2us/step - loss: 0.0072 - mean_absolute_error: 0.0605 - val_loss: 0.0075 - val_mean_absolute_error: 0.0619\n",
      "Epoch 40/100\n",
      "3201814/3201814 [==============================] - 7s 2us/step - loss: 0.0072 - mean_absolute_error: 0.0605 - val_loss: 0.0072 - val_mean_absolute_error: 0.0611\n",
      "Epoch 41/100\n",
      "3201814/3201814 [==============================] - 6s 2us/step - loss: 0.0071 - mean_absolute_error: 0.0602 - val_loss: 0.0075 - val_mean_absolute_error: 0.0630\n",
      "Epoch 42/100\n",
      "3201814/3201814 [==============================] - 6s 2us/step - loss: 0.0072 - mean_absolute_error: 0.0604 - val_loss: 0.0080 - val_mean_absolute_error: 0.0663\n",
      "Epoch 43/100\n",
      "3201814/3201814 [==============================] - 6s 2us/step - loss: 0.0071 - mean_absolute_error: 0.0601 - val_loss: 0.0072 - val_mean_absolute_error: 0.0617\n",
      "Epoch 44/100\n",
      "3201814/3201814 [==============================] - 6s 2us/step - loss: 0.0071 - mean_absolute_error: 0.0602 - val_loss: 0.0072 - val_mean_absolute_error: 0.0619\n",
      "Epoch 45/100\n",
      "3201814/3201814 [==============================] - 6s 2us/step - loss: 0.0071 - mean_absolute_error: 0.0600 - val_loss: 0.0073 - val_mean_absolute_error: 0.0620\n",
      "Epoch 46/100\n",
      "3201814/3201814 [==============================] - 6s 2us/step - loss: 0.0071 - mean_absolute_error: 0.0600 - val_loss: 0.0074 - val_mean_absolute_error: 0.0633\n",
      "Epoch 47/100\n",
      "3201814/3201814 [==============================] - 6s 2us/step - loss: 0.0070 - mean_absolute_error: 0.0599 - val_loss: 0.0074 - val_mean_absolute_error: 0.0632\n",
      "Epoch 48/100\n",
      "3201814/3201814 [==============================] - 6s 2us/step - loss: 0.0071 - mean_absolute_error: 0.0600 - val_loss: 0.0075 - val_mean_absolute_error: 0.0641\n",
      "Epoch 49/100\n",
      "3201814/3201814 [==============================] - 6s 2us/step - loss: 0.0070 - mean_absolute_error: 0.0596 - val_loss: 0.0073 - val_mean_absolute_error: 0.0627\n",
      "Epoch 50/100\n",
      "3201814/3201814 [==============================] - 6s 2us/step - loss: 0.0070 - mean_absolute_error: 0.0596 - val_loss: 0.0073 - val_mean_absolute_error: 0.0620\n",
      "Epoch 51/100\n",
      "3201814/3201814 [==============================] - 6s 2us/step - loss: 0.0070 - mean_absolute_error: 0.0597 - val_loss: 0.0079 - val_mean_absolute_error: 0.0666\n",
      "Epoch 52/100\n",
      "3201814/3201814 [==============================] - 6s 2us/step - loss: 0.0070 - mean_absolute_error: 0.0597 - val_loss: 0.0072 - val_mean_absolute_error: 0.0623\n",
      "Epoch 53/100\n",
      "3201814/3201814 [==============================] - 6s 2us/step - loss: 0.0070 - mean_absolute_error: 0.0596 - val_loss: 0.0075 - val_mean_absolute_error: 0.0619\n",
      "Epoch 54/100\n",
      "3201814/3201814 [==============================] - 6s 2us/step - loss: 0.0070 - mean_absolute_error: 0.0595 - val_loss: 0.0073 - val_mean_absolute_error: 0.0629\n",
      "Epoch 55/100\n",
      "3201814/3201814 [==============================] - 6s 2us/step - loss: 0.0069 - mean_absolute_error: 0.0595 - val_loss: 0.0070 - val_mean_absolute_error: 0.0605\n",
      "Epoch 56/100\n",
      "3201814/3201814 [==============================] - 6s 2us/step - loss: 0.0070 - mean_absolute_error: 0.0595 - val_loss: 0.0071 - val_mean_absolute_error: 0.0607\n",
      "Epoch 57/100\n",
      "3201814/3201814 [==============================] - 6s 2us/step - loss: 0.0069 - mean_absolute_error: 0.0593 - val_loss: 0.0072 - val_mean_absolute_error: 0.0619\n",
      "Epoch 58/100\n",
      "3201814/3201814 [==============================] - 6s 2us/step - loss: 0.0070 - mean_absolute_error: 0.0597 - val_loss: 0.0073 - val_mean_absolute_error: 0.0603\n",
      "Epoch 59/100\n",
      "3201814/3201814 [==============================] - 6s 2us/step - loss: 0.0069 - mean_absolute_error: 0.0592 - val_loss: 0.0074 - val_mean_absolute_error: 0.0628\n",
      "Epoch 60/100\n",
      "3201814/3201814 [==============================] - 6s 2us/step - loss: 0.0069 - mean_absolute_error: 0.0594 - val_loss: 0.0074 - val_mean_absolute_error: 0.0629\n",
      "Epoch 61/100\n",
      "3201814/3201814 [==============================] - 6s 2us/step - loss: 0.0070 - mean_absolute_error: 0.0595 - val_loss: 0.0075 - val_mean_absolute_error: 0.0640\n",
      "Epoch 62/100\n",
      "3201814/3201814 [==============================] - 6s 2us/step - loss: 0.0069 - mean_absolute_error: 0.0592 - val_loss: 0.0071 - val_mean_absolute_error: 0.0608\n",
      "Epoch 63/100\n",
      "3201814/3201814 [==============================] - 6s 2us/step - loss: 0.0069 - mean_absolute_error: 0.0592 - val_loss: 0.0072 - val_mean_absolute_error: 0.0604\n",
      "Epoch 64/100\n",
      "3201814/3201814 [==============================] - 6s 2us/step - loss: 0.0069 - mean_absolute_error: 0.0593 - val_loss: 0.0079 - val_mean_absolute_error: 0.0659\n",
      "Epoch 65/100\n",
      "3201814/3201814 [==============================] - 6s 2us/step - loss: 0.0069 - mean_absolute_error: 0.0594 - val_loss: 0.0071 - val_mean_absolute_error: 0.0614\n",
      "Epoch 66/100\n",
      "3201814/3201814 [==============================] - 6s 2us/step - loss: 0.0068 - mean_absolute_error: 0.0590 - val_loss: 0.0074 - val_mean_absolute_error: 0.0628\n",
      "Epoch 67/100\n",
      "3201814/3201814 [==============================] - 6s 2us/step - loss: 0.0069 - mean_absolute_error: 0.0592 - val_loss: 0.0070 - val_mean_absolute_error: 0.0605\n",
      "Epoch 68/100\n",
      "3201814/3201814 [==============================] - 6s 2us/step - loss: 0.0073 - mean_absolute_error: 0.0607 - val_loss: 0.0075 - val_mean_absolute_error: 0.0640\n",
      "Epoch 69/100\n",
      "3201814/3201814 [==============================] - 6s 2us/step - loss: 0.0069 - mean_absolute_error: 0.0592 - val_loss: 0.0073 - val_mean_absolute_error: 0.0633\n",
      "Epoch 70/100\n",
      "3201814/3201814 [==============================] - 6s 2us/step - loss: 0.0069 - mean_absolute_error: 0.0591 - val_loss: 0.0072 - val_mean_absolute_error: 0.0614\n",
      "Epoch 71/100\n",
      "3201814/3201814 [==============================] - 6s 2us/step - loss: 0.0069 - mean_absolute_error: 0.0591 - val_loss: 0.0072 - val_mean_absolute_error: 0.0619\n",
      "Epoch 72/100\n",
      "3201814/3201814 [==============================] - 6s 2us/step - loss: 0.0068 - mean_absolute_error: 0.0590 - val_loss: 0.0076 - val_mean_absolute_error: 0.0643\n",
      "Epoch 73/100\n",
      "3201814/3201814 [==============================] - 6s 2us/step - loss: 0.0068 - mean_absolute_error: 0.0590 - val_loss: 0.0077 - val_mean_absolute_error: 0.0653\n",
      "Epoch 74/100\n",
      "3201814/3201814 [==============================] - 6s 2us/step - loss: 0.0069 - mean_absolute_error: 0.0591 - val_loss: 0.0073 - val_mean_absolute_error: 0.0616\n",
      "Epoch 75/100\n",
      "3201814/3201814 [==============================] - 6s 2us/step - loss: 0.0068 - mean_absolute_error: 0.0590 - val_loss: 0.0070 - val_mean_absolute_error: 0.0609\n",
      "Epoch 76/100\n",
      "3201814/3201814 [==============================] - 6s 2us/step - loss: 0.0068 - mean_absolute_error: 0.0589 - val_loss: 0.0073 - val_mean_absolute_error: 0.0617\n",
      "Epoch 77/100\n",
      "3201814/3201814 [==============================] - 6s 2us/step - loss: 0.0068 - mean_absolute_error: 0.0589 - val_loss: 0.0073 - val_mean_absolute_error: 0.0621\n",
      "Epoch 78/100\n",
      "3201814/3201814 [==============================] - 6s 2us/step - loss: 0.0068 - mean_absolute_error: 0.0589 - val_loss: 0.0076 - val_mean_absolute_error: 0.0651\n",
      "Epoch 79/100\n",
      "3201814/3201814 [==============================] - 6s 2us/step - loss: 0.0068 - mean_absolute_error: 0.0589 - val_loss: 0.0074 - val_mean_absolute_error: 0.0633\n",
      "Epoch 80/100\n",
      "3201814/3201814 [==============================] - 6s 2us/step - loss: 0.0068 - mean_absolute_error: 0.0588 - val_loss: 0.0072 - val_mean_absolute_error: 0.0612\n",
      "Epoch 81/100\n",
      "3201814/3201814 [==============================] - 6s 2us/step - loss: 0.0068 - mean_absolute_error: 0.0588 - val_loss: 0.0071 - val_mean_absolute_error: 0.0607\n",
      "Epoch 82/100\n",
      "3201814/3201814 [==============================] - 6s 2us/step - loss: 0.0068 - mean_absolute_error: 0.0587 - val_loss: 0.0075 - val_mean_absolute_error: 0.0638\n",
      "Epoch 83/100\n",
      "3201814/3201814 [==============================] - 6s 2us/step - loss: 0.0068 - mean_absolute_error: 0.0588 - val_loss: 0.0072 - val_mean_absolute_error: 0.0619\n",
      "Epoch 84/100\n",
      "3201814/3201814 [==============================] - 6s 2us/step - loss: 0.0068 - mean_absolute_error: 0.0588 - val_loss: 0.0071 - val_mean_absolute_error: 0.0605\n",
      "Epoch 85/100\n",
      "3201814/3201814 [==============================] - 6s 2us/step - loss: 0.0068 - mean_absolute_error: 0.0587 - val_loss: 0.0070 - val_mean_absolute_error: 0.0597\n",
      "Epoch 86/100\n"
     ]
    },
    {
     "name": "stdout",
     "output_type": "stream",
     "text": [
      "3201814/3201814 [==============================] - 6s 2us/step - loss: 0.0068 - mean_absolute_error: 0.0587 - val_loss: 0.0075 - val_mean_absolute_error: 0.0640\n",
      "Epoch 87/100\n",
      "3201814/3201814 [==============================] - 6s 2us/step - loss: 0.0068 - mean_absolute_error: 0.0587 - val_loss: 0.0070 - val_mean_absolute_error: 0.0603\n",
      "Epoch 88/100\n",
      "3201814/3201814 [==============================] - 6s 2us/step - loss: 0.0068 - mean_absolute_error: 0.0587 - val_loss: 0.0076 - val_mean_absolute_error: 0.0644\n",
      "Epoch 89/100\n",
      "3201814/3201814 [==============================] - 6s 2us/step - loss: 0.0067 - mean_absolute_error: 0.0586 - val_loss: 0.0081 - val_mean_absolute_error: 0.0657\n",
      "Epoch 90/100\n",
      "3201814/3201814 [==============================] - 6s 2us/step - loss: 0.0068 - mean_absolute_error: 0.0589 - val_loss: 0.0074 - val_mean_absolute_error: 0.0639\n",
      "Epoch 91/100\n",
      "3201814/3201814 [==============================] - 6s 2us/step - loss: 0.0068 - mean_absolute_error: 0.0587 - val_loss: 0.0072 - val_mean_absolute_error: 0.0625\n",
      "Epoch 92/100\n",
      "3201814/3201814 [==============================] - 7s 2us/step - loss: 0.0067 - mean_absolute_error: 0.0586 - val_loss: 0.0074 - val_mean_absolute_error: 0.0630\n",
      "Epoch 93/100\n",
      "3201814/3201814 [==============================] - 6s 2us/step - loss: 0.0070 - mean_absolute_error: 0.0596 - val_loss: 0.0070 - val_mean_absolute_error: 0.0601\n",
      "Epoch 94/100\n",
      "3201814/3201814 [==============================] - 6s 2us/step - loss: 0.0067 - mean_absolute_error: 0.0586 - val_loss: 0.0070 - val_mean_absolute_error: 0.0608\n",
      "Epoch 95/100\n",
      "3201814/3201814 [==============================] - 6s 2us/step - loss: 0.0067 - mean_absolute_error: 0.0584 - val_loss: 0.0070 - val_mean_absolute_error: 0.0607\n",
      "Epoch 96/100\n",
      "3201814/3201814 [==============================] - 6s 2us/step - loss: 0.0067 - mean_absolute_error: 0.0586 - val_loss: 0.0070 - val_mean_absolute_error: 0.0599\n",
      "Epoch 97/100\n",
      "3201814/3201814 [==============================] - 6s 2us/step - loss: 0.0067 - mean_absolute_error: 0.0585 - val_loss: 0.0072 - val_mean_absolute_error: 0.0612\n",
      "Epoch 98/100\n",
      "3201814/3201814 [==============================] - 6s 2us/step - loss: 0.0067 - mean_absolute_error: 0.0585 - val_loss: 0.0069 - val_mean_absolute_error: 0.0596\n",
      "Epoch 99/100\n",
      "3201814/3201814 [==============================] - 6s 2us/step - loss: 0.0067 - mean_absolute_error: 0.0584 - val_loss: 0.0074 - val_mean_absolute_error: 0.0634\n",
      "Epoch 100/100\n",
      "3201814/3201814 [==============================] - 6s 2us/step - loss: 0.0067 - mean_absolute_error: 0.0586 - val_loss: 0.0070 - val_mean_absolute_error: 0.0607\n"
     ]
    }
   ],
   "source": [
    "num_epochs = 100\n",
    "model = build_model()\n",
    "history = model.fit(x_train, y_train, validation_split=0.2, epochs=num_epochs, batch_size=10000, verbose=1)"
   ]
  },
  {
   "cell_type": "markdown",
   "metadata": {},
   "source": [
    "100轮训练后，模型MAE收敛于0.06左右，Loss收敛于0.01，效果还是可以的。"
   ]
  },
  {
   "cell_type": "code",
   "execution_count": 14,
   "metadata": {},
   "outputs": [
    {
     "data": {
      "image/png": "[encoded data removed]",
      "text/plain": [
       "<Figure size 432x288 with 1 Axes>"
      ]
     },
     "metadata": {
      "needs_background": "light"
     },
     "output_type": "display_data"
    },
    {
     "data": {
      "image/png": "[encoded data removed]",
      "text/plain": [
       "<Figure size 432x288 with 1 Axes>"
      ]
     },
     "metadata": {
      "needs_background": "light"
     },
     "output_type": "display_data"
    }
   ],
   "source": [
    "import matplotlib.pyplot as plt\n",
    "def plot_history(history):\n",
    "    plt.plot(history.history['mean_absolute_error'])\n",
    "    plt.plot(history.history['val_mean_absolute_error'])\n",
    "    plt.title('model MAE')\n",
    "    plt.xlabel('epoch')\n",
    "    plt.ylabel('MAE')\n",
    "    plt.legend(['mean_absolute_error', 'val_mean_absolute_error'])\n",
    "    plt.show()\n",
    "\n",
    "    plt.plot(history.history['loss'])\n",
    "    plt.plot(history.history['val_loss'])\n",
    "    plt.title('model loss')\n",
    "    plt.xlabel('epoch')\n",
    "    plt.ylabel('loss')\n",
    "    plt.legend(['loss', 'val_loss'])\n",
    "    plt.show()\n",
    "plot_history(history)"
   ]
  },
  {
   "cell_type": "code",
   "execution_count": 10,
   "metadata": {
    "scrolled": true
   },
   "outputs": [
    {
     "name": "stdout",
     "output_type": "stream",
     "text": [
      "mae train:  0.0603489711746765\n",
      "mae test:  0.06065848714850899\n"
     ]
    }
   ],
   "source": [
    "pred = model.predict(x_test)\n",
    "print('mae train: ', mean_absolute_error(model.predict(x_train), y_train))\n",
    "print('mae test: ', mean_absolute_error(pred, y_test))"
   ]
  },
  {
   "cell_type": "markdown",
   "metadata": {},
   "source": [
    "## 2 结果对比分析\n",
    "我们将三个模型的结果综合到一起进行对比分析，可以看出，三个模型中随机森林的效果是最好的，其次是MLP，线性回归效果最差。  \n",
    "在实验过程中，随机森林的训练时间也比MLP要短。  \n",
    "（注：这里为了显示美观，将数值保留至小数点后5位）"
   ]
  },
  {
   "cell_type": "code",
   "execution_count": 16,
   "metadata": {},
   "outputs": [
    {
     "data": {
      "image/png": "[encoded data removed]",
      "text/plain": [
       "<Figure size 576x432 with 1 Axes>"
      ]
     },
     "metadata": {
      "needs_background": "light"
     },
     "output_type": "display_data"
    }
   ],
   "source": [
    "name_list = ['LR', 'RF', 'MLP']\n",
    "y_train = [0.09199775645256723, 0.03297402648441849, 0.0603489711746765]\n",
    "y_text = [0.09222107817896709, 0.058151005937161174, 0.06065848714850899]\n",
    "x =list(range(len(y_train)))\n",
    "total_width, n = 0.7, 2\n",
    "width = total_width / n\n",
    "\n",
    "plt.figure(figsize=(8, 6))\n",
    "plt.bar(x, y_train, width=width, label='train', color='steelblue', alpha=0.8)\n",
    "for x1, yy in zip(x, y_train):\n",
    "    plt.text(x1, yy, str(round(yy, 5)), ha='center', va='bottom', fontsize=10, rotation=0)\n",
    "for i in range(len(x)):\n",
    "    x[i] = x[i] + width\n",
    "plt.bar(x, y_text, width=width, label='test', tick_label=name_list, fc='r', alpha=0.8)\n",
    "for x1, yy in zip(x, y_text):\n",
    "    plt.text(x1, yy, str(round(yy, 5)), ha='center', va='bottom', fontsize=10, rotation=0)\n",
    "plt.title(\"MAE\")\n",
    "plt.legend()\n",
    "plt.show()"
   ]
  }
 ],
 "metadata": {
  "kernelspec": {
   "display_name": "Python 3",
   "language": "python",
   "name": "python3"
  },
  "language_info": {
   "codemirror_mode": {
    "name": "ipython",
    "version": 3
   },
   "file_extension": ".py",
   "mimetype": "text/x-python",
   "name": "python",
   "nbconvert_exporter": "python",
   "pygments_lexer": "ipython3",
   "version": "3.6.5"
  },
  "toc": {
   "base_numbering": 1,
   "nav_menu": {},
   "number_sections": true,
   "sideBar": true,
   "skip_h1_title": false,
   "title_cell": "Table of Contents",
   "title_sidebar": "Contents",
   "toc_cell": false,
   "toc_position": {
    "height": "calc(100% - 180px)",
    "left": "10px",
    "top": "150px",
    "width": "179.188px"
   },
   "toc_section_display": true,
   "toc_window_display": true
  }
 },
 "nbformat": 4,
 "nbformat_minor": 4
}
